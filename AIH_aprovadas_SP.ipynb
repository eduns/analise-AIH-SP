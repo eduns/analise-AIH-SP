{
  "nbformat": 4,
  "nbformat_minor": 0,
  "metadata": {
    "colab": {
      "name": "AIH_aprovadas_SP.ipynb",
      "provenance": [],
      "collapsed_sections": []
    },
    "kernelspec": {
      "name": "python3",
      "display_name": "Python 3"
    }
  },
  "cells": [
    {
      "cell_type": "code",
      "metadata": {
        "id": "zwBKRbaxVWHT",
        "colab_type": "code",
        "colab": {}
      },
      "source": [
        "import pandas as pd\n",
        "import matplotlib\n",
        "matplotlib.style.use('ggplot')\n",
        "import matplotlib.pyplot as plt\n",
        "low_memory=False\n",
        "%matplotlib inline"
      ],
      "execution_count": 4,
      "outputs": []
    },
    {
      "cell_type": "code",
      "metadata": {
        "id": "bNBF6qPBWMCA",
        "colab_type": "code",
        "colab": {}
      },
      "source": [
        "# Lendo o arquivo com os dados\n",
        "df = pd.read_csv('A200611189_28_143_208.csv', encoding='ISO-8859-1')"
      ],
      "execution_count": 5,
      "outputs": []
    },
    {
      "cell_type": "code",
      "metadata": {
        "id": "8hjFYepmhTWi",
        "colab_type": "code",
        "colab": {
          "base_uri": "https://localhost:8080/",
          "height": 278
        },
        "outputId": "fd75c8c8-8a35-4674-dd44-3634f926a5e9"
      },
      "source": [
        "# Exibe uma descrição das colunas do DataFrame\n",
        "df.info()"
      ],
      "execution_count": 6,
      "outputs": [
        {
          "output_type": "stream",
          "text": [
            "<class 'pandas.core.frame.DataFrame'>\n",
            "RangeIndex: 328 entries, 0 to 327\n",
            "Data columns (total 8 columns):\n",
            " #   Column     Non-Null Count  Dtype \n",
            "---  ------     --------------  ----- \n",
            " 0   Município  328 non-null    object\n",
            " 1   2019/Nov   328 non-null    object\n",
            " 2   2019/Dez   328 non-null    object\n",
            " 3   2020/Jan   328 non-null    object\n",
            " 4   2020/Fev   328 non-null    object\n",
            " 5   2020/Mar   328 non-null    object\n",
            " 6   2020/Abr   328 non-null    object\n",
            " 7   Total      328 non-null    int64 \n",
            "dtypes: int64(1), object(7)\n",
            "memory usage: 20.6+ KB\n"
          ],
          "name": "stdout"
        }
      ]
    },
    {
      "cell_type": "code",
      "metadata": {
        "id": "Z-jhshrXgodO",
        "colab_type": "code",
        "colab": {}
      },
      "source": [
        "# Remove a última linha, não necessária\n",
        "df.drop(df.tail(1).index, inplace=True)"
      ],
      "execution_count": 7,
      "outputs": []
    },
    {
      "cell_type": "code",
      "metadata": {
        "id": "EVFqA3g0SEnW",
        "colab_type": "code",
        "colab": {
          "base_uri": "https://localhost:8080/",
          "height": 206
        },
        "outputId": "a6c924f7-7a9d-4d80-88fd-1da8a1bf43d1"
      },
      "source": [
        "# exibe uma amostra dos dados\n",
        "df.sample(5)"
      ],
      "execution_count": 8,
      "outputs": [
        {
          "output_type": "execute_result",
          "data": {
            "text/html": [
              "<div>\n",
              "<style scoped>\n",
              "    .dataframe tbody tr th:only-of-type {\n",
              "        vertical-align: middle;\n",
              "    }\n",
              "\n",
              "    .dataframe tbody tr th {\n",
              "        vertical-align: top;\n",
              "    }\n",
              "\n",
              "    .dataframe thead th {\n",
              "        text-align: right;\n",
              "    }\n",
              "</style>\n",
              "<table border=\"1\" class=\"dataframe\">\n",
              "  <thead>\n",
              "    <tr style=\"text-align: right;\">\n",
              "      <th></th>\n",
              "      <th>Município</th>\n",
              "      <th>2019/Nov</th>\n",
              "      <th>2019/Dez</th>\n",
              "      <th>2020/Jan</th>\n",
              "      <th>2020/Fev</th>\n",
              "      <th>2020/Mar</th>\n",
              "      <th>2020/Abr</th>\n",
              "      <th>Total</th>\n",
              "    </tr>\n",
              "  </thead>\n",
              "  <tbody>\n",
              "    <tr>\n",
              "      <th>148</th>\n",
              "      <td>352440 Jacareí</td>\n",
              "      <td>1019</td>\n",
              "      <td>1026</td>\n",
              "      <td>970</td>\n",
              "      <td>958</td>\n",
              "      <td>1005</td>\n",
              "      <td>829</td>\n",
              "      <td>5807</td>\n",
              "    </tr>\n",
              "    <tr>\n",
              "      <th>73</th>\n",
              "      <td>351210 Colômbia</td>\n",
              "      <td>3</td>\n",
              "      <td>1</td>\n",
              "      <td>5</td>\n",
              "      <td>5</td>\n",
              "      <td>-</td>\n",
              "      <td>-</td>\n",
              "      <td>14</td>\n",
              "    </tr>\n",
              "    <tr>\n",
              "      <th>268</th>\n",
              "      <td>354770 Santo Anastácio</td>\n",
              "      <td>160</td>\n",
              "      <td>161</td>\n",
              "      <td>150</td>\n",
              "      <td>171</td>\n",
              "      <td>156</td>\n",
              "      <td>75</td>\n",
              "      <td>873</td>\n",
              "    </tr>\n",
              "    <tr>\n",
              "      <th>95</th>\n",
              "      <td>351620 Franca</td>\n",
              "      <td>1918</td>\n",
              "      <td>1915</td>\n",
              "      <td>1938</td>\n",
              "      <td>1921</td>\n",
              "      <td>1938</td>\n",
              "      <td>1181</td>\n",
              "      <td>10811</td>\n",
              "    </tr>\n",
              "    <tr>\n",
              "      <th>139</th>\n",
              "      <td>352320 Itararé</td>\n",
              "      <td>384</td>\n",
              "      <td>317</td>\n",
              "      <td>350</td>\n",
              "      <td>313</td>\n",
              "      <td>288</td>\n",
              "      <td>-</td>\n",
              "      <td>1652</td>\n",
              "    </tr>\n",
              "  </tbody>\n",
              "</table>\n",
              "</div>"
            ],
            "text/plain": [
              "                  Município 2019/Nov 2019/Dez  ... 2020/Mar 2020/Abr  Total\n",
              "148          352440 Jacareí     1019     1026  ...     1005      829   5807\n",
              "73          351210 Colômbia        3        1  ...        -        -     14\n",
              "268  354770 Santo Anastácio      160      161  ...      156       75    873\n",
              "95            351620 Franca     1918     1915  ...     1938     1181  10811\n",
              "139          352320 Itararé      384      317  ...      288        -   1652\n",
              "\n",
              "[5 rows x 8 columns]"
            ]
          },
          "metadata": {
            "tags": []
          },
          "execution_count": 8
        }
      ]
    },
    {
      "cell_type": "markdown",
      "metadata": {
        "id": "fD5hQa8A-yHd",
        "colab_type": "text"
      },
      "source": [
        "### **Como se pode notar, existem alguns valores ausentes em alguns registros e que deverão ser sanitizados antes de continuar a análise**\n",
        "\n",
        "---\n",
        "\n"
      ]
    },
    {
      "cell_type": "code",
      "metadata": {
        "id": "wSsvUEaLh7ow",
        "colab_type": "code",
        "colab": {}
      },
      "source": [
        "# Trocando o valor de registros que contenham \"-\" por 0\n",
        "df = df.replace('-', 0)"
      ],
      "execution_count": 9,
      "outputs": []
    },
    {
      "cell_type": "markdown",
      "metadata": {
        "id": "grM-GMDe_cxz",
        "colab_type": "text"
      },
      "source": [
        "### **Adequar os valores das colunas para manipulação dos dados**"
      ]
    },
    {
      "cell_type": "code",
      "metadata": {
        "id": "j08WL1cPBv_M",
        "colab_type": "code",
        "colab": {
          "base_uri": "https://localhost:8080/",
          "height": 206
        },
        "outputId": "4782037a-a9af-47bc-eccb-6b44156e3d7b"
      },
      "source": [
        "# Removendo os códigos numéricos no início dos nomes\n",
        "df['Município'] = df['Município'].str[7:]\n",
        "\n",
        "# Convertendo todas as colunas dos períodos para tipos numéricos\n",
        "df['2019/Nov'] = df['2019/Nov'].astype(int)\n",
        "df['2019/Dez'] = df['2019/Dez'].astype(int)\n",
        "df['2020/Jan'] = df['2020/Jan'].astype(int)\n",
        "df['2020/Fev'] = df['2020/Fev'].astype(int)\n",
        "df['2020/Mar'] = df['2020/Mar'].astype(int)\n",
        "df['2020/Abr'] = df['2020/Abr'].astype(int)\n",
        "\n",
        "# Exibindo os primeiros registros do DataFrame\n",
        "df.head()"
      ],
      "execution_count": 10,
      "outputs": [
        {
          "output_type": "execute_result",
          "data": {
            "text/html": [
              "<div>\n",
              "<style scoped>\n",
              "    .dataframe tbody tr th:only-of-type {\n",
              "        vertical-align: middle;\n",
              "    }\n",
              "\n",
              "    .dataframe tbody tr th {\n",
              "        vertical-align: top;\n",
              "    }\n",
              "\n",
              "    .dataframe thead th {\n",
              "        text-align: right;\n",
              "    }\n",
              "</style>\n",
              "<table border=\"1\" class=\"dataframe\">\n",
              "  <thead>\n",
              "    <tr style=\"text-align: right;\">\n",
              "      <th></th>\n",
              "      <th>Município</th>\n",
              "      <th>2019/Nov</th>\n",
              "      <th>2019/Dez</th>\n",
              "      <th>2020/Jan</th>\n",
              "      <th>2020/Fev</th>\n",
              "      <th>2020/Mar</th>\n",
              "      <th>2020/Abr</th>\n",
              "      <th>Total</th>\n",
              "    </tr>\n",
              "  </thead>\n",
              "  <tbody>\n",
              "    <tr>\n",
              "      <th>0</th>\n",
              "      <td>Adamantina</td>\n",
              "      <td>487</td>\n",
              "      <td>383</td>\n",
              "      <td>432</td>\n",
              "      <td>437</td>\n",
              "      <td>436</td>\n",
              "      <td>293</td>\n",
              "      <td>2468</td>\n",
              "    </tr>\n",
              "    <tr>\n",
              "      <th>1</th>\n",
              "      <td>Águas de Lindóia</td>\n",
              "      <td>94</td>\n",
              "      <td>112</td>\n",
              "      <td>91</td>\n",
              "      <td>116</td>\n",
              "      <td>141</td>\n",
              "      <td>102</td>\n",
              "      <td>656</td>\n",
              "    </tr>\n",
              "    <tr>\n",
              "      <th>2</th>\n",
              "      <td>Agudos</td>\n",
              "      <td>125</td>\n",
              "      <td>95</td>\n",
              "      <td>124</td>\n",
              "      <td>117</td>\n",
              "      <td>97</td>\n",
              "      <td>99</td>\n",
              "      <td>657</td>\n",
              "    </tr>\n",
              "    <tr>\n",
              "      <th>3</th>\n",
              "      <td>Altinópolis</td>\n",
              "      <td>100</td>\n",
              "      <td>74</td>\n",
              "      <td>88</td>\n",
              "      <td>86</td>\n",
              "      <td>107</td>\n",
              "      <td>73</td>\n",
              "      <td>528</td>\n",
              "    </tr>\n",
              "    <tr>\n",
              "      <th>4</th>\n",
              "      <td>Alto Alegre</td>\n",
              "      <td>2</td>\n",
              "      <td>5</td>\n",
              "      <td>5</td>\n",
              "      <td>4</td>\n",
              "      <td>4</td>\n",
              "      <td>3</td>\n",
              "      <td>23</td>\n",
              "    </tr>\n",
              "  </tbody>\n",
              "</table>\n",
              "</div>"
            ],
            "text/plain": [
              "          Município  2019/Nov  2019/Dez  ...  2020/Mar  2020/Abr  Total\n",
              "0        Adamantina       487       383  ...       436       293   2468\n",
              "1  Águas de Lindóia        94       112  ...       141       102    656\n",
              "2            Agudos       125        95  ...        97        99    657\n",
              "3       Altinópolis       100        74  ...       107        73    528\n",
              "4       Alto Alegre         2         5  ...         4         3     23\n",
              "\n",
              "[5 rows x 8 columns]"
            ]
          },
          "metadata": {
            "tags": []
          },
          "execution_count": 10
        }
      ]
    },
    {
      "cell_type": "code",
      "metadata": {
        "id": "E83osUU1KJej",
        "colab_type": "code",
        "colab": {
          "base_uri": "https://localhost:8080/",
          "height": 394
        },
        "outputId": "36649161-edc0-4c1c-c55b-5ad40a1163db"
      },
      "source": [
        "# Selecionando os 10 municípios de SP com mais registros de AIH\n",
        "df_top10_AIH = df.groupby('Município')[['2019/Nov','2019/Dez','2020/Jan','2020/Fev','2020/Mar','2020/Abr', 'Total']].max().sort_values(by='Total', ascending=False).head(10)\n",
        "df_top10_AIH"
      ],
      "execution_count": 11,
      "outputs": [
        {
          "output_type": "execute_result",
          "data": {
            "text/html": [
              "<div>\n",
              "<style scoped>\n",
              "    .dataframe tbody tr th:only-of-type {\n",
              "        vertical-align: middle;\n",
              "    }\n",
              "\n",
              "    .dataframe tbody tr th {\n",
              "        vertical-align: top;\n",
              "    }\n",
              "\n",
              "    .dataframe thead th {\n",
              "        text-align: right;\n",
              "    }\n",
              "</style>\n",
              "<table border=\"1\" class=\"dataframe\">\n",
              "  <thead>\n",
              "    <tr style=\"text-align: right;\">\n",
              "      <th></th>\n",
              "      <th>2019/Nov</th>\n",
              "      <th>2019/Dez</th>\n",
              "      <th>2020/Jan</th>\n",
              "      <th>2020/Fev</th>\n",
              "      <th>2020/Mar</th>\n",
              "      <th>2020/Abr</th>\n",
              "      <th>Total</th>\n",
              "    </tr>\n",
              "    <tr>\n",
              "      <th>Município</th>\n",
              "      <th></th>\n",
              "      <th></th>\n",
              "      <th></th>\n",
              "      <th></th>\n",
              "      <th></th>\n",
              "      <th></th>\n",
              "      <th></th>\n",
              "    </tr>\n",
              "  </thead>\n",
              "  <tbody>\n",
              "    <tr>\n",
              "      <th>São Paulo</th>\n",
              "      <td>56609</td>\n",
              "      <td>54991</td>\n",
              "      <td>58898</td>\n",
              "      <td>54399</td>\n",
              "      <td>57241</td>\n",
              "      <td>40810</td>\n",
              "      <td>322948</td>\n",
              "    </tr>\n",
              "    <tr>\n",
              "      <th>Campinas</th>\n",
              "      <td>6424</td>\n",
              "      <td>6009</td>\n",
              "      <td>6691</td>\n",
              "      <td>6684</td>\n",
              "      <td>6463</td>\n",
              "      <td>5628</td>\n",
              "      <td>37899</td>\n",
              "    </tr>\n",
              "    <tr>\n",
              "      <th>Ribeirão Preto</th>\n",
              "      <td>6470</td>\n",
              "      <td>6094</td>\n",
              "      <td>6600</td>\n",
              "      <td>6393</td>\n",
              "      <td>6105</td>\n",
              "      <td>5361</td>\n",
              "      <td>37023</td>\n",
              "    </tr>\n",
              "    <tr>\n",
              "      <th>São José do Rio Preto</th>\n",
              "      <td>5712</td>\n",
              "      <td>5258</td>\n",
              "      <td>5727</td>\n",
              "      <td>5364</td>\n",
              "      <td>5356</td>\n",
              "      <td>4594</td>\n",
              "      <td>32011</td>\n",
              "    </tr>\n",
              "    <tr>\n",
              "      <th>Guarulhos</th>\n",
              "      <td>4990</td>\n",
              "      <td>5336</td>\n",
              "      <td>5275</td>\n",
              "      <td>4941</td>\n",
              "      <td>4871</td>\n",
              "      <td>3967</td>\n",
              "      <td>29380</td>\n",
              "    </tr>\n",
              "    <tr>\n",
              "      <th>Sorocaba</th>\n",
              "      <td>4590</td>\n",
              "      <td>4629</td>\n",
              "      <td>4674</td>\n",
              "      <td>4485</td>\n",
              "      <td>4279</td>\n",
              "      <td>3431</td>\n",
              "      <td>26088</td>\n",
              "    </tr>\n",
              "    <tr>\n",
              "      <th>São José dos Campos</th>\n",
              "      <td>4368</td>\n",
              "      <td>3626</td>\n",
              "      <td>4006</td>\n",
              "      <td>3995</td>\n",
              "      <td>4020</td>\n",
              "      <td>2678</td>\n",
              "      <td>22693</td>\n",
              "    </tr>\n",
              "    <tr>\n",
              "      <th>Santo André</th>\n",
              "      <td>3771</td>\n",
              "      <td>3423</td>\n",
              "      <td>3694</td>\n",
              "      <td>3602</td>\n",
              "      <td>3818</td>\n",
              "      <td>2514</td>\n",
              "      <td>20822</td>\n",
              "    </tr>\n",
              "    <tr>\n",
              "      <th>Jundiaí</th>\n",
              "      <td>3476</td>\n",
              "      <td>3332</td>\n",
              "      <td>3565</td>\n",
              "      <td>3270</td>\n",
              "      <td>3247</td>\n",
              "      <td>2539</td>\n",
              "      <td>19429</td>\n",
              "    </tr>\n",
              "    <tr>\n",
              "      <th>Presidente Prudente</th>\n",
              "      <td>3172</td>\n",
              "      <td>3019</td>\n",
              "      <td>3155</td>\n",
              "      <td>3269</td>\n",
              "      <td>3160</td>\n",
              "      <td>2258</td>\n",
              "      <td>18033</td>\n",
              "    </tr>\n",
              "  </tbody>\n",
              "</table>\n",
              "</div>"
            ],
            "text/plain": [
              "                       2019/Nov  2019/Dez  2020/Jan  ...  2020/Mar  2020/Abr   Total\n",
              "Município                                            ...                            \n",
              "São Paulo                 56609     54991     58898  ...     57241     40810  322948\n",
              "Campinas                   6424      6009      6691  ...      6463      5628   37899\n",
              "Ribeirão Preto             6470      6094      6600  ...      6105      5361   37023\n",
              "São José do Rio Preto      5712      5258      5727  ...      5356      4594   32011\n",
              "Guarulhos                  4990      5336      5275  ...      4871      3967   29380\n",
              "Sorocaba                   4590      4629      4674  ...      4279      3431   26088\n",
              "São José dos Campos        4368      3626      4006  ...      4020      2678   22693\n",
              "Santo André                3771      3423      3694  ...      3818      2514   20822\n",
              "Jundiaí                    3476      3332      3565  ...      3247      2539   19429\n",
              "Presidente Prudente        3172      3019      3155  ...      3160      2258   18033\n",
              "\n",
              "[10 rows x 7 columns]"
            ]
          },
          "metadata": {
            "tags": []
          },
          "execution_count": 11
        }
      ]
    },
    {
      "cell_type": "code",
      "metadata": {
        "id": "wriQcugNbCaZ",
        "colab_type": "code",
        "colab": {}
      },
      "source": [
        "# Removendo a coluna Total\n",
        "df_top10_AIH.drop(columns=['Total'], inplace=True)"
      ],
      "execution_count": 12,
      "outputs": []
    },
    {
      "cell_type": "markdown",
      "metadata": {
        "id": "KrFEXcHEBAuH",
        "colab_type": "text"
      },
      "source": [
        "### **Plotagem dos dados**"
      ]
    },
    {
      "cell_type": "code",
      "metadata": {
        "id": "ncm-zCXuS9-Y",
        "colab_type": "code",
        "colab": {
          "base_uri": "https://localhost:8080/",
          "height": 756
        },
        "outputId": "938d1202-d1c5-468b-f29e-1b8d9150c00a"
      },
      "source": [
        "df_top10_AIH.plot(kind='barh', width=0.80, figsize=(15, 15), edgecolor='k',\n",
        "                  color=['#fcca03','#03fceb','#fc7514','#03c6fc','#09bd2d','#6705f0'])\n",
        "\n",
        "plt.title('Autorizações de Internação Hospitalar (AIH) aprovadas no Estado de SP')\n",
        "plt.xlabel('Quantidade de Internações')\n",
        "plt.ylabel('Municípios')\n",
        "\n",
        "plt.show()"
      ],
      "execution_count": 21,
      "outputs": [
        {
          "output_type": "display_data",
          "data": {
            "image/png": "[encoded data removed]",
            "text/plain": [
              "<Figure size 1080x1080 with 1 Axes>"
            ]
          },
          "metadata": {
            "tags": [],
            "needs_background": "light"
          }
        }
      ]
    }
  ]
}